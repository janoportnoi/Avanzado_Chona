{
  "cells": [
    {
      "cell_type": "markdown",
      "metadata": {
        "colab_type": "text",
        "id": "view-in-github"
      },
      "source": [
        "<a href=\"https://colab.research.google.com/github/IgnacioPardo/SNN/blob/main/SNN.ipynb\" target=\"_parent\"><img src=\"https://colab.research.google.com/assets/colab-badge.svg\" alt=\"Open In Colab\"/></a>"
      ]
    },
    {
      "cell_type": "markdown",
      "metadata": {
        "id": "E5MvfaYmnfke"
      },
      "source": [
        "# Simple Neural Network\n",
        "\n",
        "Simple Red Neuronal (Perceptrón) para la materia Tecnologías Exponenciales - TIC\n",
        "\n",
        "Inspirado en https://github.com/jonasbostoen/simple-neural-network"
      ]
    },
    {
      "cell_type": "markdown",
      "metadata": {
        "id": "WYr3ptD1nklQ"
      },
      "source": [
        "### Librerias"
      ]
    },
    {
      "cell_type": "code",
      "execution_count": 23,
      "metadata": {
        "id": "ZLJi7O0hCEn3"
      },
      "outputs": [],
      "source": [
        "import numpy as np\n",
        "import pandas as pd\n",
        "import matplotlib.pyplot as plt\n",
        "from IPython.display import HTML, display\n",
        "import tabulate\n",
        "import networkx as nx\n",
        "from random import random as rand\n",
        "import itertools"
      ]
    },
    {
      "cell_type": "code",
      "execution_count": 24,
      "metadata": {
        "id": "lUUgSMF_CM5m"
      },
      "outputs": [],
      "source": [
        "np.random.seed(1)"
      ]
    },
    {
      "cell_type": "markdown",
      "metadata": {
        "id": "b8-iBQcXnmQz"
      },
      "source": [
        "### Funciones"
      ]
    },
    {
      "cell_type": "code",
      "execution_count": 25,
      "metadata": {
        "id": "d-ylyCurCJpi"
      },
      "outputs": [],
      "source": [
        "def sigmoid(x):\n",
        "    return 1 / ( 1 + np.exp(-x) )\n",
        "\n",
        "# sigmoid = lambda x : 1 / ( 1 + np.exp(-x) )\n",
        "\n",
        "def sigmoid_derivative(x):\n",
        "    return x * (1 - x)\n",
        "\n",
        "# sigmoid_derivative = lambda x : x * (1 - x)"
      ]
    },
    {
      "cell_type": "markdown",
      "metadata": {
        "id": "R5ycxQ3TFT8S"
      },
      "source": [
        "\n",
        "Sigmoid Function\n",
        "$$\\operatorname{f}(x)=\\frac{1}{1+e^{(-x)}}$$\n",
        "\n",
        "Sigmoid Derivative Function\n",
        "$$\\operatorname{f'}(x)=x \\times (1-x)$$"
      ]
    },
    {
      "cell_type": "markdown",
      "metadata": {
        "id": "Q0ikk-Oyno28"
      },
      "source": [
        "#### Visualización Función Sigmoide"
      ]
    },
    {
      "cell_type": "code",
      "execution_count": 26,
      "metadata": {
        "colab": {
          "base_uri": "https://localhost:8080/",
          "height": 273
        },
        "id": "_T8o08_KGUpQ",
        "outputId": "dbb3c515-0ee4-4786-8854-bf8ebef6b524"
      },
      "outputs": [
        {
          "data": {
            "image/png": "[encoded data removed]",
            "text/plain": [
              "<Figure size 640x480 with 1 Axes>"
            ]
          },
          "metadata": {},
          "output_type": "display_data"
        }
      ],
      "source": [
        "x = np.linspace(-5,5,100)\n",
        "y = sigmoid(x)\n",
        "fig = plt.figure()\n",
        "ax = fig.add_subplot(1, 1, 1)\n",
        "\n",
        "# Move left y-axis and bottim x-axis to centre, passing through (0,0)\n",
        "ax.spines['left'].set_position('center')\n",
        "\n",
        "# Eliminate upper and right axes\n",
        "ax.spines['right'].set_color('none')\n",
        "ax.spines['top'].set_color('none')\n",
        "\n",
        "plt.plot(x, y)\n",
        "plt.locator_params(axis='y', nbins=3)\n",
        "plt.yticks(fontsize=18)\n",
        "plt.xticks(fontsize=18)\n",
        "plt.grid()"
      ]
    },
    {
      "cell_type": "markdown",
      "metadata": {},
      "source": [
        "Funciones de Activación:\n",
        "las funciones de activación determinan que pinta va a tener nuestro modelo. Por ejemplo, en este caso, la función sigmoide nos aproxima la salida a 0 o 1."
      ]
    },
    {
      "cell_type": "markdown",
      "metadata": {
        "id": "Lt58rBeCoBqX"
      },
      "source": [
        "## Setup"
      ]
    },
    {
      "cell_type": "markdown",
      "metadata": {
        "id": "wlwVE47Lntcq"
      },
      "source": [
        "### Values"
      ]
    },
    {
      "cell_type": "markdown",
      "metadata": {
        "id": "xvUJGV0Huj1F"
      },
      "source": [
        "#### Training Values"
      ]
    },
    {
      "cell_type": "code",
      "execution_count": 27,
      "metadata": {},
      "outputs": [],
      "source": [
        "info: pd.DataFrame = pd.read_csv('disney_movies.csv')\n",
        "info = info.drop([\"movie_title\"], axis = 1)\n",
        "info['release_date'] = pd.to_datetime(info['release_date'])\n",
        "info['release_date'] = info['release_date'].dt.year"
      ]
    },
    {
      "cell_type": "code",
      "execution_count": 28,
      "metadata": {},
      "outputs": [],
      "source": [
        "training_inputs = info.drop([\"genre\"], axis = 1)\n",
        "training_inputs = pd.get_dummies(training_inputs, columns=['mpaa_rating'])\n",
        "training_inputs = training_inputs * 1\n",
        "training_inputs = training_inputs.values"
      ]
    },
    {
      "cell_type": "code",
      "execution_count": 29,
      "metadata": {},
      "outputs": [],
      "source": [
        "training_outputs = info[\"genre\"]\n",
        "training_outputs = pd.get_dummies(training_outputs)\n",
        "training_outputs = training_outputs * 1\n",
        "training_outputs = training_outputs.values"
      ]
    },
    {
      "cell_type": "code",
      "execution_count": 30,
      "metadata": {},
      "outputs": [
        {
          "data": {
            "text/plain": [
              "8"
            ]
          },
          "execution_count": 30,
          "metadata": {},
          "output_type": "execute_result"
        }
      ],
      "source": [
        "len(training_inputs[0])"
      ]
    },
    {
      "cell_type": "code",
      "execution_count": 31,
      "metadata": {},
      "outputs": [
        {
          "data": {
            "text/plain": [
              "12"
            ]
          },
          "execution_count": 31,
          "metadata": {},
          "output_type": "execute_result"
        }
      ],
      "source": [
        "len(training_outputs[0])"
      ]
    },
    {
      "cell_type": "markdown",
      "metadata": {},
      "source": [
        "Estructura de la red neuronal: definimos la cantidad de entradas y salidas que va a tener nuestra red neuronal. En este caso, tenemos 8 entradas (si contamos las diferentes mpaa rating por separado) y 12 salidas."
      ]
    },
    {
      "cell_type": "code",
      "execution_count": 32,
      "metadata": {
        "colab": {
          "base_uri": "https://localhost:8080/",
          "height": 156
        },
        "id": "IJe-z6WUCH98",
        "outputId": "fb5963d9-2e0e-469b-980d-a7e277b1240b"
      },
      "outputs": [
        {
          "data": {
            "text/plain": [
              "array([[      1937,  184925485, 5228953251, ...,          0,          0,\n",
              "                 0],\n",
              "       [      1940,   84300000, 2188229052, ...,          0,          0,\n",
              "                 0],\n",
              "       [      1940,   83320000, 2187090808, ...,          0,          0,\n",
              "                 0],\n",
              "       ...,\n",
              "       [      2016,  232532923,  232532923, ...,          0,          1,\n",
              "                 0],\n",
              "       [      2016,  246082029,  246082029, ...,          1,          0,\n",
              "                 0],\n",
              "       [      2016,  529483936,  529483936, ...,          0,          1,\n",
              "                 0]], dtype=int64)"
            ]
          },
          "metadata": {},
          "output_type": "display_data"
        },
        {
          "data": {
            "text/plain": [
              "array([[0, 0, 0, ..., 0, 0, 0],\n",
              "       [0, 1, 0, ..., 0, 0, 0],\n",
              "       [0, 0, 0, ..., 0, 0, 0],\n",
              "       ...,\n",
              "       [0, 1, 0, ..., 0, 0, 0],\n",
              "       [0, 1, 0, ..., 0, 0, 0],\n",
              "       [0, 1, 0, ..., 0, 0, 0]])"
            ]
          },
          "metadata": {},
          "output_type": "display_data"
        }
      ],
      "source": [
        "display(training_inputs)\n",
        "display(training_outputs)"
      ]
    },
    {
      "cell_type": "code",
      "execution_count": 33,
      "metadata": {
        "colab": {
          "base_uri": "https://localhost:8080/",
          "height": 103
        },
        "id": "PCajxnvAdyhl",
        "outputId": "c5e7b0c3-c9f7-4bf7-fb8e-cda04a487f25"
      },
      "outputs": [],
      "source": [
        "training_values = np.concatenate((training_inputs.T, training_outputs.T)).T\n",
        "table = lambda arr : display(HTML(tabulate.tabulate(arr, tablefmt='html')))\n",
        "#table(training_values)"
      ]
    },
    {
      "cell_type": "markdown",
      "metadata": {
        "id": "WM0UGBrAnxKs"
      },
      "source": [
        "#### Synaptic weights "
      ]
    },
    {
      "cell_type": "code",
      "execution_count": 34,
      "metadata": {
        "colab": {
          "base_uri": "https://localhost:8080/",
          "height": 0
        },
        "id": "2WjmwkX7E6t1",
        "outputId": "ed66ea3b-25d7-40d1-fafb-2afa097da45e"
      },
      "outputs": [
        {
          "data": {
            "text/plain": [
              "array([[1.417022  , 1.72032449, 1.00011437, 1.30233257, 1.14675589,\n",
              "        1.09233859, 1.18626021, 1.34556073, 1.39676747, 1.53881673,\n",
              "        1.41919451, 1.6852195 ],\n",
              "       [1.20445225, 1.87811744, 1.02738759, 1.67046751, 1.4173048 ,\n",
              "        1.55868983, 1.14038694, 1.19810149, 1.80074457, 1.96826158,\n",
              "        1.31342418, 1.69232262],\n",
              "       [1.87638915, 1.89460666, 1.08504421, 1.03905478, 1.16983042,\n",
              "        1.8781425 , 1.09834683, 1.42110763, 1.95788953, 1.53316528,\n",
              "        1.69187711, 1.31551563],\n",
              "       [1.68650093, 1.83462567, 1.01828828, 1.75014431, 1.98886109,\n",
              "        1.74816565, 1.28044399, 1.78927933, 1.10322601, 1.44789353,\n",
              "        1.9085955 , 1.29361415],\n",
              "       [1.28777534, 1.13002857, 1.01936696, 1.67883553, 1.21162812,\n",
              "        1.26554666, 1.49157316, 1.05336255, 1.57411761, 1.14672857,\n",
              "        1.58930554, 1.69975836],\n",
              "       [1.10233443, 1.41405599, 1.69440016, 1.41417927, 1.04995346,\n",
              "        1.53589641, 1.66379465, 1.51488911, 1.94459476, 1.58655504,\n",
              "        1.90340192, 1.1374747 ],\n",
              "       [1.13927635, 1.80739129, 1.39767684, 1.1653542 , 1.92750858,\n",
              "        1.34776586, 1.7508121 , 1.72599799, 1.88330609, 1.62367221,\n",
              "        1.75094243, 1.34889834],\n",
              "       [1.26992789, 1.89588622, 1.42809119, 1.96484005, 1.6634415 ,\n",
              "        1.62169572, 1.11474597, 1.94948926, 1.44991213, 1.57838961,\n",
              "        1.4081368 , 1.23702698]])"
            ]
          },
          "execution_count": 34,
          "metadata": {},
          "output_type": "execute_result"
        }
      ],
      "source": [
        "n = training_inputs.shape[1]\n",
        "synaptic_weights = 1 + np.random.random((n, 12))\n",
        "\n",
        "synaptic_weights"
      ]
    },
    {
      "cell_type": "markdown",
      "metadata": {
        "id": "SvRwhjxMn-lw"
      },
      "source": [
        "## Training"
      ]
    },
    {
      "cell_type": "markdown",
      "metadata": {
        "id": "vyFklb0-ptf3"
      },
      "source": [
        "Para obtener un resultado a partir de los inputs y los synaptic weights se realiza la siguiente función:\n",
        "\n",
        "$$\\sum_{i=0}^{n}{x_iw_i}$$\n",
        "\n",
        "Y se le aplica la función sigmoide para normalizar al rango 0, 1\n",
        "\n",
        "Por ejemplo, si nuestros inputs $x_i$ son `[1, 1, 1]` y nuestros pesos sinapticos $w_i$ son `[[11.30926442], [-0.20511667], [-5.4500033]]`\n",
        "\n",
        "Nos resulta la cuenta\n",
        "$$[1 \\times 11.30926442] + [1 \\times (-0.20511667)] + [1 \\times (-5.4500033)] = 5.6541444499999995$$\n",
        "\n",
        "Con la función sigmoide es facil ver como $$\\operatorname{sigmoid}(5.65) \\approx 1$$"
      ]
    },
    {
      "cell_type": "code",
      "execution_count": 35,
      "metadata": {
        "id": "cVzwPQlYstOz"
      },
      "outputs": [],
      "source": [
        "eval_NN = lambda x, w: sigmoid(np.dot(x, w))"
      ]
    },
    {
      "cell_type": "code",
      "execution_count": 36,
      "metadata": {
        "id": "GE6UM40eE8kR"
      },
      "outputs": [],
      "source": [
        "# 50000 epochs\n",
        "for iteration in range(50000):\n",
        "\n",
        "    # Arranca con los valores de training\n",
        "    input_layer = training_inputs\n",
        "\n",
        "    # Genera un output haciendo la suma de los valores de input multiplicados por su peso sinaptico, y aplicandole la función sigmoide para normalizar a -1, 1\n",
        "    outputs = eval_NN(input_layer, synaptic_weights)\n",
        "\n",
        "    # Calculo el error\n",
        "    error = training_outputs - outputs\n",
        "    #forward propagation\n",
        "\n",
        "    # Ajusto los pesos en funcion al error y al resultado obtenido\n",
        "    adjustments = error * sigmoid_derivative(outputs)\n",
        "    synaptic_weights += np.dot(input_layer.T, adjustments)\n",
        "    #back propagation"
      ]
    },
    {
      "cell_type": "markdown",
      "metadata": {},
      "source": [
        "Acá ocurren varios procesos qu ayudan a la red mejorar los resultados: \n",
        "\n",
        "Forward propagation: se realiza todo el recorrido de la red neuronal para, al finalizar, obtener un resultado.\n",
        "\n",
        "Back propagation: se realiza el recorrido inverso para ajustar los pesos sinapticos y mejorar el resultado.\n",
        "\n",
        "Gradiente descendiente: se realiza el ajuste de los pesos sinapticos en base a la derivada de la función de activación."
      ]
    },
    {
      "cell_type": "code",
      "execution_count": 37,
      "metadata": {
        "colab": {
          "base_uri": "https://localhost:8080/",
          "height": 0
        },
        "id": "8_LfZgY9FBpO",
        "outputId": "77bca46c-13b2-46a4-ef7d-2c1689c871a6"
      },
      "outputs": [
        {
          "name": "stdout",
          "output_type": "stream",
          "text": [
            "Synaptic weights after training\n",
            "[[1.417022   1.72032449 1.00011437 1.30233257 1.14675589 1.09233859\n",
            "  1.18626021 1.34556073 1.39676747 1.53881673 1.41919451 1.6852195 ]\n",
            " [1.20445225 1.87811744 1.02738759 1.67046751 1.4173048  1.55868983\n",
            "  1.14038694 1.19810149 1.80074457 1.96826158 1.31342418 1.69232262]\n",
            " [1.87638915 1.89460666 1.08504421 1.03905478 1.16983042 1.8781425\n",
            "  1.09834683 1.42110763 1.95788953 1.53316528 1.69187711 1.31551563]\n",
            " [1.68650093 1.83462567 1.01828828 1.75014431 1.98886109 1.74816565\n",
            "  1.28044399 1.78927933 1.10322601 1.44789353 1.9085955  1.29361415]\n",
            " [1.28777534 1.13002857 1.01936696 1.67883553 1.21162812 1.26554666\n",
            "  1.49157316 1.05336255 1.57411761 1.14672857 1.58930554 1.69975836]\n",
            " [1.10233443 1.41405599 1.69440016 1.41417927 1.04995346 1.53589641\n",
            "  1.66379465 1.51488911 1.94459476 1.58655504 1.90340192 1.1374747 ]\n",
            " [1.13927635 1.80739129 1.39767684 1.1653542  1.92750858 1.34776586\n",
            "  1.7508121  1.72599799 1.88330609 1.62367221 1.75094243 1.34889834]\n",
            " [1.26992789 1.89588622 1.42809119 1.96484005 1.6634415  1.62169572\n",
            "  1.11474597 1.94948926 1.44991213 1.57838961 1.4081368  1.23702698]]\n",
            "Outputs after training: \n",
            "[[1. 1. 1. ... 1. 1. 1.]\n",
            " [1. 1. 1. ... 1. 1. 1.]\n",
            " [1. 1. 1. ... 1. 1. 1.]\n",
            " ...\n",
            " [1. 1. 1. ... 1. 1. 1.]\n",
            " [1. 1. 1. ... 1. 1. 1.]\n",
            " [1. 1. 1. ... 1. 1. 1.]]\n"
          ]
        }
      ],
      "source": [
        "print('Synaptic weights after training')\n",
        "print(synaptic_weights)\n",
        "\n",
        "print('Outputs after training: ')\n",
        "print(outputs)"
      ]
    },
    {
      "cell_type": "markdown",
      "metadata": {
        "id": "1lBXXHfFoD67"
      },
      "source": [
        "## Eval"
      ]
    },
    {
      "cell_type": "code",
      "execution_count": 38,
      "metadata": {
        "colab": {
          "base_uri": "https://localhost:8080/",
          "height": 103
        },
        "id": "zOynLtbAeKjy",
        "outputId": "a5a69983-e66e-43e3-dae8-c5aa47dc205c"
      },
      "outputs": [],
      "source": [
        "#table(training_values)"
      ]
    },
    {
      "cell_type": "code",
      "execution_count": 39,
      "metadata": {
        "id": "1V_H4tV6vzvd"
      },
      "outputs": [],
      "source": [
        "large = lambda x : display(HTML('<p style=\"font-size: 50px; color: #66D148\">'+str(x)+'</p>'))"
      ]
    },
    {
      "cell_type": "code",
      "execution_count": 40,
      "metadata": {
        "colab": {
          "base_uri": "https://localhost:8080/",
          "height": 108
        },
        "id": "wlN9Pkcwbb-J",
        "outputId": "77ccc4ba-0d3e-41a8-f3ed-757c15c6f5ee"
      },
      "outputs": [
        {
          "data": {
            "text/plain": [
              "array([1., 1., 1., 1., 1., 1., 1., 1., 1., 1., 1., 1.])"
            ]
          },
          "metadata": {},
          "output_type": "display_data"
        },
        {
          "data": {
            "text/html": [
              "<p style=\"font-size: 50px; color: #66D148\">1</p>"
            ],
            "text/plain": [
              "<IPython.core.display.HTML object>"
            ]
          },
          "metadata": {},
          "output_type": "display_data"
        }
      ],
      "source": [
        "a = 1 #@param {type:\"integer\"}\n",
        "c = 1 #@param {type:\"integer\"}\n",
        "b = 1 #@param {type:\"integer\"}\n",
        "\n",
        "#input_layer = np.array([a, b, c])\n",
        "res = sigmoid(np.dot(input_layer, synaptic_weights))[0]\n",
        "display(res)\n",
        "\n",
        "thresh = 0.01\n",
        "out = 0 if (res < thresh).all() else 1\n",
        "\n",
        "large(out)"
      ]
    },
    {
      "cell_type": "markdown",
      "metadata": {},
      "source": [
        "# Bonus\n",
        "\n",
        "Función Softmax: la función softmax, a diferencia de la sigmoide, nos da un resultado menor a 0 para cada una de nuestras clases, haciendo que el total de las sumas de estas de 1, quedándose asi con la de mayor porcentaje. De esta manera, podemos ver la probabilidad de que nuestro resultado sea de una clase u otra, por esto se utiliza para resolver problemas de clasificacion mutualmente excluyentes.\n",
        "En el código, deberíamos de cambiar cada vez que se utiliza la función sigmoid por la softmax, tanto en el entrenamiento como en la evaluación."
      ]
    }
  ],
  "metadata": {
    "colab": {
      "authorship_tag": "ABX9TyO+Psy/T2PKhICcB98RlOYN",
      "collapsed_sections": [],
      "include_colab_link": true,
      "name": "SNN.ipynb",
      "provenance": []
    },
    "kernelspec": {
      "display_name": "Python 3",
      "name": "python3"
    },
    "language_info": {
      "codemirror_mode": {
        "name": "ipython",
        "version": 3
      },
      "file_extension": ".py",
      "mimetype": "text/x-python",
      "name": "python",
      "nbconvert_exporter": "python",
      "pygments_lexer": "ipython3",
      "version": "3.10.0"
    }
  },
  "nbformat": 4,
  "nbformat_minor": 0
}
